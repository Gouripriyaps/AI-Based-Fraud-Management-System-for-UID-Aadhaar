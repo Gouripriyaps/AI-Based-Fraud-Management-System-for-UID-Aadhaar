{
 "cells": [
  {
   "cell_type": "code",
   "execution_count": 1,
   "id": "55cd1572-dcfa-40ff-a5f4-e3600e6ff941",
   "metadata": {},
   "outputs": [],
   "source": [
    "from ultralytics import YOLO\n",
    "import easyocr\n",
    "import cv2"
   ]
  },
  {
   "cell_type": "code",
   "execution_count": 2,
   "id": "a3f561f7-4a7d-43ed-bc49-4b8c0ba28782",
   "metadata": {},
   "outputs": [],
   "source": [
    "# Load the trained YOLO model\n",
    "model = YOLO(\"/Users/admin/Documents/My_projects/adar/dataset/runs/detect/train13/weights/best.pt\")"
   ]
  },
  {
   "cell_type": "code",
   "execution_count": 3,
   "id": "368b7989-6a0b-4f0c-af66-3bf4205e348c",
   "metadata": {},
   "outputs": [
    {
     "name": "stderr",
     "output_type": "stream",
     "text": [
      "Neither CUDA nor MPS are available - defaulting to CPU. Note: This module is much faster with a GPU.\n",
      "Downloading detection model, please wait. This may take several minutes depending upon your network connection.\n"
     ]
    },
    {
     "name": "stdout",
     "output_type": "stream",
     "text": [
      "Progress: |██████████████████████████████████████████████████| 100.0% Complete"
     ]
    },
    {
     "name": "stderr",
     "output_type": "stream",
     "text": [
      "Downloading recognition model, please wait. This may take several minutes depending upon your network connection.\n"
     ]
    },
    {
     "name": "stdout",
     "output_type": "stream",
     "text": [
      "Progress: |██████████████████████████████████████████████████| 100.0% Complete"
     ]
    }
   ],
   "source": [
    "# Load EasyOCR Reader\n",
    "reader = easyocr.Reader(['en'])  # Initialize EasyOCR with English language"
   ]
  },
  {
   "cell_type": "code",
   "execution_count": 7,
   "id": "33ecc1c5-e5a1-4c42-969d-174640fbfc0b",
   "metadata": {},
   "outputs": [
    {
     "name": "stdout",
     "output_type": "stream",
     "text": [
      "\n",
      "image 1/1 C:\\Users\\admin\\Documents\\My_projects\\adar\\dataset\\image1\\train\\images\\150.jpg: 448x640 1 NAME, 1 UID, 82.5ms\n",
      "Speed: 1.9ms preprocess, 82.5ms inference, 1.5ms postprocess per image at shape (1, 3, 448, 640)\n"
     ]
    }
   ],
   "source": [
    "# Predict with YOLO\n",
    "image_path = (\"/Users/admin/Documents/My_projects/adar/dataset/image1/train/images/150.jpg\")  # replace with your image path\n",
    "results = model(image_path)  # Detect fields using YOLO"
   ]
  },
  {
   "cell_type": "code",
   "execution_count": 8,
   "id": "fbc05d1f-edc8-4796-b37f-a43ba03ec8cd",
   "metadata": {},
   "outputs": [],
   "source": [
    "# Load the original image\n",
    "image = cv2.imread(image_path)\n",
    "\n",
    "# Dictionary to store extracted fields\n",
    "extracted_data = {}"
   ]
  },
  {
   "cell_type": "code",
   "execution_count": 9,
   "id": "24169f8c-a1c2-40ec-acfc-267a9126055b",
   "metadata": {},
   "outputs": [],
   "source": [
    "# Iterate through detections\n",
    "for result in results[0].boxes.data.tolist():  # results[0].boxes.data contains bounding box details\n",
    "    x1, y1, x2, y2, confidence, class_id = map(int, result[:6])\n",
    "    field_class = model.names[class_id]  # Get class name (e.g., 'Name', 'UID', 'Address')\n",
    "\n",
    "    # Crop the detected region\n",
    "    cropped_roi = image[y1:y2, x1:x2]\n",
    "\n",
    "    # Convert cropped ROI to grayscale for OCR\n",
    "    gray_roi = cv2.cvtColor(cropped_roi, cv2.COLOR_BGR2GRAY)\n",
    "\n",
    "    # Use EasyOCR to extract text\n",
    "    text = reader.readtext(gray_roi, detail=0)  # detail=0 returns only the text\n",
    "\n",
    "    # Save the text to the extracted_data dictionary\n",
    "    extracted_data[field_class] = ' '.join(text)  # Combine detected text if multiple lines"
   ]
  },
  {
   "cell_type": "code",
   "execution_count": 10,
   "id": "fb0f9cfc-586c-498e-a8ab-c1acf49104c7",
   "metadata": {},
   "outputs": [
    {
     "name": "stdout",
     "output_type": "stream",
     "text": [
      "Extracted Data: {'NAME': 'Navneet Tiwari', 'UID': '2125 5737 2041'}\n"
     ]
    }
   ],
   "source": [
    "# Print the extracted fields\n",
    "print(\"Extracted Data:\", extracted_data)"
   ]
  },
  {
   "cell_type": "code",
   "execution_count": null,
   "id": "4bb38f1c-1af7-40c5-a222-741a94cf64ed",
   "metadata": {},
   "outputs": [],
   "source": []
  }
 ],
 "metadata": {
  "kernelspec": {
   "display_name": "Python 3 (ipykernel)",
   "language": "python",
   "name": "python3"
  },
  "language_info": {
   "codemirror_mode": {
    "name": "ipython",
    "version": 3
   },
   "file_extension": ".py",
   "mimetype": "text/x-python",
   "name": "python",
   "nbconvert_exporter": "python",
   "pygments_lexer": "ipython3",
   "version": "3.12.7"
  }
 },
 "nbformat": 4,
 "nbformat_minor": 5
}
