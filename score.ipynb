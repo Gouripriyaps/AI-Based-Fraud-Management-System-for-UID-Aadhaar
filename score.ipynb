{
 "cells": [
  {
   "cell_type": "code",
   "execution_count": 58,
   "id": "13be8568-6350-4ae9-b709-65ec8d26811d",
   "metadata": {},
   "outputs": [],
   "source": [
    "import re\n",
    "from difflib import SequenceMatcher\n",
    "\n",
    "# Function to normalize address\n",
    "def normalize_address(address):\n",
    "    address = re.sub(r'\\b(Marg|Lane|Township)\\b', '', address, flags=re.IGNORECASE)\n",
    "    address = re.sub(r'\\W+', ' ', address)\n",
    "    return address.strip().lower()\n"
   ]
  },
  {
   "cell_type": "code",
   "execution_count": 59,
   "id": "c32fde09-a4b5-43f7-a125-1eac1776f0cf",
   "metadata": {},
   "outputs": [],
   "source": [
    "# Function to check exact letter match\n",
    "def exact_letter_match(name1, name2):\n",
    "    return name1.lower() == name2.lower()\n"
   ]
  },
  {
   "cell_type": "code",
   "execution_count": 60,
   "id": "f18dfaa3-bfcc-4092-b2ef-80b2d5e94e91",
   "metadata": {},
   "outputs": [],
   "source": [
    "# Function to check abbreviated name match\n",
    "def abbreviated_name_match(name1, name2):\n",
    "    name1_parts = name1.split()\n",
    "    name2_parts = name2.split()\n",
    "    if len(name1_parts) == 2 and len(name2_parts) == 2:\n",
    "        return (name1_parts[0][0].lower() == name2_parts[0][0].lower() and\n",
    "                name1_parts[1].lower() == name2_parts[1].lower())\n",
    "    return False\n"
   ]
  },
  {
   "cell_type": "code",
   "execution_count": 61,
   "id": "93decca7-76cb-4d75-84c1-8093add0f27a",
   "metadata": {},
   "outputs": [],
   "source": [
    "# Function to check ignoring middle names match\n",
    "def ignore_middle_names(name1, name2):\n",
    "    parts1 = name1.split()\n",
    "    parts2 = name2.split()\n",
    "    if len(parts1) == 2 and len(parts2) == 3:\n",
    "        return parts1[0].lower() == parts2[0].lower() and parts1[1].lower() == parts2[2].lower()\n",
    "    if len(parts1) == 3 and len(parts2) == 2:\n",
    "        return parts1[0].lower() == parts2[0].lower() and parts1[2].lower() == parts2[1].lower()\n",
    "    return False\n"
   ]
  },
  {
   "cell_type": "code",
   "execution_count": 62,
   "id": "01cf00a6-49b9-4394-9f3a-659560958774",
   "metadata": {},
   "outputs": [],
   "source": [
    "# Function to check matching any part of the name\n",
    "def match_any_part(name1, name2):\n",
    "    parts1 = name1.lower().split()\n",
    "    parts2 = name2.lower().split()\n",
    "    return any(part in parts2 for part in parts1) or any(part in parts1 for part in parts2)\n"
   ]
  },
  {
   "cell_type": "code",
   "execution_count": 63,
   "id": "6e9f8b6c-8f6e-4b38-8cc2-812ecb10052b",
   "metadata": {},
   "outputs": [],
   "source": [
    "# Function to check circular match\n",
    "def circular_match(name1, name2):\n",
    "    return set(name1.lower().split()) == set(name2.lower().split())\n"
   ]
  },
  {
   "cell_type": "code",
   "execution_count": 64,
   "id": "a825e223-0b70-403d-a32b-31e1ed17ada6",
   "metadata": {},
   "outputs": [],
   "source": [
    "# Function to check single letter abbreviation match\n",
    "def single_letter_abbreviation(name1, name2):\n",
    "    parts1 = name1.split()\n",
    "    parts2 = name2.split()\n",
    "    if len(parts1) == 2 and len(parts2) == 2:\n",
    "        return (parts1[0][0].lower() == parts2[0][0].lower() and\n",
    "                parts1[1].lower() == parts2[1].lower())\n",
    "    return False\n"
   ]
  },
  {
   "cell_type": "code",
   "execution_count": 65,
   "id": "c9db529a-2e3d-4368-83fe-2a830e2a4c02",
   "metadata": {},
   "outputs": [],
   "source": [
    "# Function to match names based on various rules\n",
    "def name_match(input_name, extracted_name):\n",
    "    match_score = 0\n",
    "    if exact_letter_match(input_name, extracted_name):\n",
    "        match_score += 20\n",
    "    if abbreviated_name_match(input_name, extracted_name):\n",
    "        match_score += 20\n",
    "    if ignore_middle_names(input_name, extracted_name):\n",
    "        match_score += 20\n",
    "    if match_any_part(input_name, extracted_name):\n",
    "        match_score += 20\n",
    "    if circular_match(input_name, extracted_name):\n",
    "        match_score += 20\n",
    "    if single_letter_abbreviation(input_name, extracted_name):\n",
    "        match_score += 20\n",
    "    return min(match_score, 100)\n"
   ]
  },
  {
   "cell_type": "code",
   "execution_count": 66,
   "id": "352cc890-ee31-4927-96cb-9fa4bfa0d0dd",
   "metadata": {},
   "outputs": [],
   "source": [
    "# Function to calculate similarity ratio\n",
    "def similarity_ratio(a, b):\n",
    "    return SequenceMatcher(None, a, b).ratio()\n",
    "\n"
   ]
  },
  {
   "cell_type": "code",
   "execution_count": 67,
   "id": "691b0ff1-4b40-4720-8166-d0a03a3b1569",
   "metadata": {},
   "outputs": [],
   "source": [
    "# Functions to match specific address components\n",
    "def house_flat_match(input_address, extracted_address):\n",
    "    # Extract house/flat number from addresses\n",
    "    house_flat_input = re.search(r'\\b\\d+[a-zA-Z]?\\b', input_address)\n",
    "    house_flat_extracted = re.search(r'\\b\\d+[a-zA-Z]?\\b', extracted_address)\n",
    "    if house_flat_input and house_flat_extracted:\n",
    "        return similarity_ratio(house_flat_input.group(), house_flat_extracted.group()) * 100\n",
    "    return 0\n"
   ]
  },
  {
   "cell_type": "code",
   "execution_count": 68,
   "id": "284697ed-cb25-4c49-883e-754d98ef8a9b",
   "metadata": {},
   "outputs": [],
   "source": [
    "def street_road_match(input_address, extracted_address):\n",
    "    # Extract street/road name from addresses\n",
    "    input_address = normalize_address(input_address)\n",
    "    extracted_address = normalize_address(extracted_address)\n",
    "    input_street = ' '.join([word for word in input_address.split() if not word.isdigit()])\n",
    "    extracted_street = ' '.join([word for word in extracted_address.split() if not word.isdigit()])\n",
    "    return similarity_ratio(input_street, extracted_street) * 100\n"
   ]
  },
  {
   "cell_type": "code",
   "execution_count": 69,
   "id": "a375a8c9-056a-4081-aaf3-0dd8654c1666",
   "metadata": {},
   "outputs": [],
   "source": [
    "def city_match(input_address, extracted_address):\n",
    "    # Extract city from addresses\n",
    "    city_input = re.search(r'\\b[a-zA-Z]+\\b', input_address, re.IGNORECASE)\n",
    "    city_extracted = re.search(r'\\b[a-zA-Z]+\\b', extracted_address, re.IGNORECASE)\n",
    "    if city_input and city_extracted:\n",
    "        return similarity_ratio(city_input.group(), city_extracted.group()) * 100\n",
    "    return 0\n"
   ]
  },
  {
   "cell_type": "code",
   "execution_count": 70,
   "id": "427af791-074c-4bea-93e1-ce71cb47c75f",
   "metadata": {},
   "outputs": [],
   "source": [
    "def floor_number_match(input_address, extracted_address):\n",
    "    # Extract floor number from addresses\n",
    "    floor_input = re.search(r'\\b\\d+[a-zA-Z]*\\b', input_address)\n",
    "    floor_extracted = re.search(r'\\b\\d+[a-zA-Z]*\\b', extracted_address)\n",
    "    if floor_input and floor_extracted:\n",
    "        return similarity_ratio(floor_input.group(), floor_extracted.group()) * 100\n",
    "    return 0\n"
   ]
  },
  {
   "cell_type": "code",
   "execution_count": 71,
   "id": "29d8256b-397a-4a72-8539-b3c79956f5fe",
   "metadata": {},
   "outputs": [],
   "source": [
    "def pincode_match(input_address, extracted_address):\n",
    "    # Extract pin code from addresses\n",
    "    pincode_input = re.search(r'\\b\\d{6}\\b', input_address)\n",
    "    pincode_extracted = re.search(r'\\b\\d{6}\\b', extracted_address)\n",
    "    if pincode_input and pincode_extracted:\n",
    "        return similarity_ratio(pincode_input.group(), pincode_extracted.group()) * 100\n",
    "    return 0\n"
   ]
  },
  {
   "cell_type": "code",
   "execution_count": 72,
   "id": "a8fac9f3-f454-4d9d-be22-9cbe99dc757d",
   "metadata": {},
   "outputs": [],
   "source": [
    "def premise_building_match(input_address, extracted_address):\n",
    "    # Extract premise/building from addresses\n",
    "    premise_input = re.search(r'\\b[a-zA-Z]+\\b', input_address, re.IGNORECASE)\n",
    "    premise_extracted = re.search(r'\\b[a-zA-Z]+\\b', extracted_address, re.IGNORECASE)\n",
    "    if premise_input and premise_extracted:\n",
    "        return similarity_ratio(premise_input.group(), premise_extracted.group()) * 100\n",
    "    return 0\n"
   ]
  },
  {
   "cell_type": "code",
   "execution_count": 73,
   "id": "b3d2103d-ee0b-4b46-ab8b-46862aaeaa83",
   "metadata": {},
   "outputs": [],
   "source": [
    "def landmark_match(input_address, extracted_address):\n",
    "    # Extract landmark from addresses if any (e.g., near, beside)\n",
    "    landmark_input = re.search(r'\\bnear\\b.*', input_address, re.IGNORECASE)\n",
    "    landmark_extracted = re.search(r'\\bnear\\b.*', extracted_address, re.IGNORECASE)\n",
    "    if landmark_input and landmark_extracted:\n",
    "        return similarity_ratio(landmark_input.group(), landmark_extracted.group()) * 100\n",
    "    return 0\n"
   ]
  },
  {
   "cell_type": "code",
   "execution_count": 74,
   "id": "a9656d4f-1b56-427f-94eb-83d0e31796d7",
   "metadata": {},
   "outputs": [],
   "source": [
    "def state_match(input_address, extracted_address):\n",
    "    # Extract state from addresses\n",
    "    state_input = re.search(r'\\b[a-zA-Z]+\\b', input_address, re.IGNORECASE)\n",
    "    state_extracted = re.search(r'\\b[a-zA-Z]+\\b', extracted_address, re.IGNORECASE)\n",
    "    if state_input and state_extracted:\n",
    "        return similarity_ratio(state_input.group(), state_extracted.group()) * 100\n",
    "    return 0\n"
   ]
  },
  {
   "cell_type": "code",
   "execution_count": 75,
   "id": "cb218b96-925c-4aee-a29e-56bde0f5e43e",
   "metadata": {},
   "outputs": [],
   "source": [
    "# Function to match addresses based on normalization and field-specific matching\n",
    "\n",
    "def address_match(input_address, extracted_address, cutoff=70):\n",
    "    # Calculate individual component scores\n",
    "    house_flat_score = house_flat_match(input_address, extracted_address)\n",
    "    street_road_score = street_road_match(input_address, extracted_address)\n",
    "    city_score = city_match(input_address, extracted_address)\n",
    "    floor_number_score = floor_number_match(input_address, extracted_address)\n",
    "    pincode_score = pincode_match(input_address, extracted_address)\n",
    "    premise_building_score = premise_building_match(input_address, extracted_address)\n",
    "    landmark_score = landmark_match(input_address, extracted_address)\n",
    "    state_score = state_match(input_address, extracted_address)\n",
    "\n",
    "    # Assign weights to each component (example weights, adjust as needed)\n",
    "    weights = {\n",
    "        \"house_flat\": 0.15,\n",
    "        \"street_road\": 0.15,\n",
    "        \"city\": 0.15,\n",
    "        \"floor_number\": 0.10,\n",
    "        \"pincode\": 0.20,\n",
    "        \"premise_building\": 0.10,\n",
    "        \"landmark\": 0.10,\n",
    "        \"state\": 0.05\n",
    "    }\n",
    "\n",
    "    # Compute weighted average of scores\n",
    "    total_score = (\n",
    "        (house_flat_score or 0) * weights[\"house_flat\"] +\n",
    "        (street_road_score or 0) * weights[\"street_road\"] +\n",
    "        (city_score or 0) * weights[\"city\"] +\n",
    "        (floor_number_score or 0) * weights[\"floor_number\"] +\n",
    "        (pincode_score or 0) * weights[\"pincode\"] +\n",
    "        (premise_building_score or 0) * weights[\"premise_building\"] +\n",
    "        (landmark_score or 0) * weights[\"landmark\"] +\n",
    "        (state_score or 0) * weights[\"state\"]\n",
    "    )\n",
    "\n",
    "    # Normalize to 100\n",
    "    normalized_score = total_score * 100\n",
    "\n",
    "    # Return the score only if it meets the cutoff\n",
    "    return normalized_score if normalized_score >= cutoff else 0\n"
   ]
  },
  {
   "cell_type": "code",
   "execution_count": 76,
   "id": "deddf5a0-3831-48e6-bbc1-5b45d601eaa1",
   "metadata": {},
   "outputs": [],
   "source": [
    "# Weighted sum of the individual scores\n",
    "    \n",
    "def calculate_final_score(house_flat_score, street_road_score, city_score, floor_number_score, \n",
    "                          pincode_score, premise_building_score, landmark_score, state_score, cutoff):\n",
    "    final_score = (\n",
    "        house_flat_score * 0.15 + \n",
    "        street_road_score * 0.15 + \n",
    "        city_score * 0.10 + \n",
    "        floor_number_score * 0.10 + \n",
    "        pincode_score * 0.15 + \n",
    "        premise_building_score * 0.10 + \n",
    "        landmark_score * 0.10 + \n",
    "        state_score * 0.15\n",
    "    )\n",
    "\n",
    "    if final_score >= cutoff:\n",
    "        return final_score\n",
    "    return final_score\n",
    "\n"
   ]
  },
  {
   "cell_type": "code",
   "execution_count": 77,
   "id": "80e2b881-4569-4c3f-8a05-84eaea94c5df",
   "metadata": {},
   "outputs": [],
   "source": [
    "# Function to check exact match for UID\n",
    "def uid_match(input_uid, extracted_uid):\n",
    "    return 100 if input_uid == extracted_uid else 0\n"
   ]
  },
  {
   "cell_type": "code",
   "execution_count": 78,
   "id": "2658a5f5-69ba-4301-8631-f70a2cdb3768",
   "metadata": {},
   "outputs": [],
   "source": [
    "# Function to match names based on various rules\n",
    "def name_match(input_name, extracted_name):\n",
    "    match_score = 0\n",
    "    if exact_letter_match(input_name, extracted_name):\n",
    "        match_score += 20\n",
    "    if abbreviated_name_match(input_name, extracted_name):\n",
    "        match_score += 20\n",
    "    if ignore_middle_names(input_name, extracted_name):\n",
    "        match_score += 20\n",
    "    if match_any_part(input_name, extracted_name):\n",
    "        match_score += 20\n",
    "    if circular_match(input_name, extracted_name):\n",
    "        match_score += 20\n",
    "    if single_letter_abbreviation(input_name, extracted_name):\n",
    "        match_score += 20\n",
    "    return min(match_score, 100)\n"
   ]
  },
  {
   "cell_type": "code",
   "execution_count": 79,
   "id": "2f954133-4ef2-4edf-9c4d-60fe2e83961c",
   "metadata": {},
   "outputs": [],
   "source": [
    "# Function to evaluate overall match\n",
    "\n",
    "def overall_match(input_name, extracted_name, input_address, extracted_address, input_uid, extracted_uid):\n",
    "    # Compute scores with fallback to 0 for None\n",
    "    name_score = name_match(input_name, extracted_name) or 0\n",
    "    address_score = address_match(input_address, extracted_address) or 0\n",
    "    uid_score = uid_match(input_uid, extracted_uid) or 0\n",
    "\n",
    "    # Calculate the weighted overall score\n",
    "    overall_score = (name_score * 0.4) + (address_score * 0.4) + (uid_score * 0.2)  # 40% Name, 40% Address, 20% UID\n",
    "    return overall_score\n",
    "\n"
   ]
  },
  {
   "cell_type": "code",
   "execution_count": 80,
   "id": "92c19577-2d74-4a18-8db0-3b9993916eb2",
   "metadata": {},
   "outputs": [
    {
     "name": "stdout",
     "output_type": "stream",
     "text": [
      "Index(['SrNo', 'House Flat Number', 'House Flat Number Match Score', 'Town',\n",
      "       'Street Road Name', 'Street Road Name Match Score',\n",
      "       'Street Road Name Match Score.1', 'City', 'City Match Score',\n",
      "       ' Floor Number', 'Floor Number Match Score', 'Country', 'PINCODE',\n",
      "       'PINCODE Match Score', 'Premise Building Name',\n",
      "       'Premise Building Name Match Score', 'Landmark', 'Landmark Match Score',\n",
      "       'State', 'State Match Score', 'Name', 'Name extracted from OVD',\n",
      "       'Name match percentage', 'Name Match Score', 'UID',\n",
      "       'UID Extracted From OVD', 'UID Match Score',\n",
      "       'Address Extracted From OVD', 'Final Address Match',\n",
      "       'Final Address Match Score', 'Overall Match', 'Final Remarks',\n",
      "       'Document Type'],\n",
      "      dtype='object')\n"
     ]
    }
   ],
   "source": [
    "import pandas as pd\n",
    "\n",
    "file_path = \"/Users/admin/Documents/My_projects/adar/dataset/input file.xlsx\"\n",
    "df = pd.read_excel(file_path)\n",
    "print(df.columns)  # Print column names to verify\n",
    "\n"
   ]
  },
  {
   "cell_type": "code",
   "execution_count": 81,
   "id": "202c1e1f-8714-4963-bfb2-a996adede59f",
   "metadata": {},
   "outputs": [
    {
     "name": "stdout",
     "output_type": "stream",
     "text": [
      "Available columns: Index(['srno', 'house_flat_number', 'house_flat_number_match_score', 'town',\n",
      "       'street_road_name', 'street_road_name_match_score',\n",
      "       'street_road_name_match_score.1', 'city', 'city_match_score',\n",
      "       'floor_number', 'floor_number_match_score', 'country', 'pincode',\n",
      "       'pincode_match_score', 'premise_building_name',\n",
      "       'premise_building_name_match_score', 'landmark', 'landmark_match_score',\n",
      "       'state', 'state_match_score', 'name', 'name_extracted_from_ovd',\n",
      "       'name_match_percentage', 'name_match_score', 'uid',\n",
      "       'uid_extracted_from_ovd', 'uid_match_score',\n",
      "       'address_extracted_from_ovd', 'final_address_match',\n",
      "       'final_address_match_score', 'overall_match', 'final_remarks',\n",
      "       'document_type'],\n",
      "      dtype='object')\n",
      "Testing: Nitish Kumar Sharma vs Nitish Kumar Sharma, Flat 404, Buddha Nagar, Noida, Uttarpradesh, 201301 vs Flat 404, Buddha Nagar, Noida, Uttarpradesh, 201301, 424831815689 vs 424831815689\n",
      "Name Match Score: 60\n",
      "Address Match Score: 9000.0\n",
      "UID Match Score: 100\n",
      "Testing: Pooja Shah vs Pooja Shah, E-707, Saswad Road, Pune, Maharashtra, 411060 vs E-707, Saswad Road, Pune, Maharashtra, 411060, 856364454912 vs 856364454912\n",
      "Name Match Score: 100\n",
      "Address Match Score: 9000.0\n",
      "UID Match Score: 100\n",
      "Testing: Mahesh Dattu Hire vs Mahesh Dattu Hire, C-403, Hanuman Nagar, Pune, Maharashtra, 411036 vs C-403, Hanuman Nagar, Pune, Maharashtra, 411036, 673496894312 vs 673496894312\n",
      "Name Match Score: 60\n",
      "Address Match Score: 9000.0\n",
      "UID Match Score: 100\n",
      "Testing: Prasanna Kumar vs Prasanna Kumar, Flat 404, Buddha Nagar, Noida, Uttarpradesh, 201301 vs Flat 404, Buddha Nagar, Noida, Uttarpradesh, 201301, 673496894312 vs 673496894312\n",
      "Name Match Score: 100\n",
      "Address Match Score: 9000.0\n",
      "UID Match Score: 100\n"
     ]
    }
   ],
   "source": [
    "import pandas as pd\n",
    "\n",
    "def run_tests_from_excel(file_path):\n",
    "    # Load the Excel file\n",
    "    df = pd.read_excel(file_path)\n",
    "    \n",
    "    # Normalize column names\n",
    "    df.columns = df.columns.str.strip().str.lower().str.replace(' ', '_')  # Standardize column names\n",
    "\n",
    "    # Check available columns\n",
    "    print(\"Available columns:\", df.columns)\n",
    "    \n",
    "    # Ensure required columns exist\n",
    "    required_columns = ['name', 'uid', 'house_flat_number', 'street_road_name', 'city', 'state', 'pincode']\n",
    "    for col in required_columns:\n",
    "        if col not in df.columns:\n",
    "            raise KeyError(f\"Missing required column: {col}\")\n",
    "    \n",
    "    # Create 'address' column by converting all elements to strings\n",
    "    df['address'] = df[['house_flat_number', 'street_road_name', 'city', 'state', 'pincode']].fillna('').astype(str).agg(', '.join, axis=1)\n",
    "\n",
    "    # Iterate through each row of the DataFrame\n",
    "    for index, row in df.iterrows():\n",
    "        input_name = row['name']\n",
    "        extracted_name = row['name']  # Assuming same column for simplicity\n",
    "        input_address = row['address']\n",
    "        extracted_address = row['address']  # Assuming same column for simplicity\n",
    "        input_uid = row['uid']\n",
    "        extracted_uid = row['uid']  # Assuming same column for simplicity\n",
    "        \n",
    "        # Run your test functions (replace with actual function definitions)\n",
    "        print(f\"Testing: {input_name} vs {extracted_name}, {input_address} vs {extracted_address}, {input_uid} vs {extracted_uid}\")\n",
    "        print(f\"Name Match Score: {name_match(input_name, extracted_name)}\")\n",
    "        print(f\"Address Match Score: {address_match(input_address, extracted_address)}\")\n",
    "        print(f\"UID Match Score: {uid_match(input_uid, extracted_uid)}\")\n",
    "\n",
    "# Example usage\n",
    "file_path = \"/Users/admin/Documents/My_projects/adar/dataset/input file.xlsx\"\n",
    "run_tests_from_excel(file_path)\n"
   ]
  },
  {
   "cell_type": "code",
   "execution_count": null,
   "id": "9a1964c5-5db0-423d-96e4-5c22ada1adb5",
   "metadata": {},
   "outputs": [],
   "source": []
  }
 ],
 "metadata": {
  "kernelspec": {
   "display_name": "Python 3 (ipykernel)",
   "language": "python",
   "name": "python3"
  },
  "language_info": {
   "codemirror_mode": {
    "name": "ipython",
    "version": 3
   },
   "file_extension": ".py",
   "mimetype": "text/x-python",
   "name": "python",
   "nbconvert_exporter": "python",
   "pygments_lexer": "ipython3",
   "version": "3.12.7"
  }
 },
 "nbformat": 4,
 "nbformat_minor": 5
}
