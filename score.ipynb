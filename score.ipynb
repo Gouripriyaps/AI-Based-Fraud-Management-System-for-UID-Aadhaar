{
 "cells": [
  {
   "cell_type": "code",
   "execution_count": 28,
   "id": "13be8568-6350-4ae9-b709-65ec8d26811d",
   "metadata": {},
   "outputs": [],
   "source": [
    "import re\n",
    "from difflib import SequenceMatcher\n",
    "\n",
    "# Function to normalize address\n",
    "def normalize_address(address):\n",
    "    address = re.sub(r'\\b(Marg|Lane|Township)\\b', '', address, flags=re.IGNORECASE)\n",
    "    address = re.sub(r'\\W+', ' ', address)\n",
    "    return address.strip().lower()\n"
   ]
  },
  {
   "cell_type": "code",
   "execution_count": 29,
   "id": "c32fde09-a4b5-43f7-a125-1eac1776f0cf",
   "metadata": {},
   "outputs": [],
   "source": [
    "# Function to check exact letter match\n",
    "def exact_letter_match(name1, name2):\n",
    "    return name1.lower() == name2.lower()\n"
   ]
  },
  {
   "cell_type": "code",
   "execution_count": 30,
   "id": "f18dfaa3-bfcc-4092-b2ef-80b2d5e94e91",
   "metadata": {},
   "outputs": [],
   "source": [
    "# Function to check abbreviated name match\n",
    "def abbreviated_name_match(name1, name2):\n",
    "    name1_parts = name1.split()\n",
    "    name2_parts = name2.split()\n",
    "    if len(name1_parts) == 2 and len(name2_parts) == 2:\n",
    "        return (name1_parts[0][0].lower() == name2_parts[0][0].lower() and\n",
    "                name1_parts[1].lower() == name2_parts[1].lower())\n",
    "    return False\n"
   ]
  },
  {
   "cell_type": "code",
   "execution_count": 31,
   "id": "93decca7-76cb-4d75-84c1-8093add0f27a",
   "metadata": {},
   "outputs": [],
   "source": [
    "# Function to check ignoring middle names match\n",
    "def ignore_middle_names(name1, name2):\n",
    "    parts1 = name1.split()\n",
    "    parts2 = name2.split()\n",
    "    if len(parts1) == 2 and len(parts2) == 3:\n",
    "        return parts1[0].lower() == parts2[0].lower() and parts1[1].lower() == parts2[2].lower()\n",
    "    if len(parts1) == 3 and len(parts2) == 2:\n",
    "        return parts1[0].lower() == parts2[0].lower() and parts1[2].lower() == parts2[1].lower()\n",
    "    return False\n"
   ]
  },
  {
   "cell_type": "code",
   "execution_count": 32,
   "id": "01cf00a6-49b9-4394-9f3a-659560958774",
   "metadata": {},
   "outputs": [],
   "source": [
    "# Function to check matching any part of the name\n",
    "def match_any_part(name1, name2):\n",
    "    parts1 = name1.lower().split()\n",
    "    parts2 = name2.lower().split()\n",
    "    return any(part in parts2 for part in parts1) or any(part in parts1 for part in parts2)\n"
   ]
  },
  {
   "cell_type": "code",
   "execution_count": 33,
   "id": "6e9f8b6c-8f6e-4b38-8cc2-812ecb10052b",
   "metadata": {},
   "outputs": [],
   "source": [
    "# Function to check circular match\n",
    "def circular_match(name1, name2):\n",
    "    return set(name1.lower().split()) == set(name2.lower().split())\n"
   ]
  },
  {
   "cell_type": "code",
   "execution_count": 34,
   "id": "a825e223-0b70-403d-a32b-31e1ed17ada6",
   "metadata": {},
   "outputs": [],
   "source": [
    "# Function to check single letter abbreviation match\n",
    "def single_letter_abbreviation(name1, name2):\n",
    "    parts1 = name1.split()\n",
    "    parts2 = name2.split()\n",
    "    if len(parts1) == 2 and len(parts2) == 2:\n",
    "        return (parts1[0][0].lower() == parts2[0][0].lower() and\n",
    "                parts1[1].lower() == parts2[1].lower())\n",
    "    return False\n"
   ]
  },
  {
   "cell_type": "code",
   "execution_count": 35,
   "id": "c9db529a-2e3d-4368-83fe-2a830e2a4c02",
   "metadata": {},
   "outputs": [],
   "source": [
    "# Function to match names based on various rules\n",
    "def name_match(input_name, extracted_name):\n",
    "    match_score = 0\n",
    "    if exact_letter_match(input_name, extracted_name):\n",
    "        match_score += 20\n",
    "    if abbreviated_name_match(input_name, extracted_name):\n",
    "        match_score += 20\n",
    "    if ignore_middle_names(input_name, extracted_name):\n",
    "        match_score += 20\n",
    "    if match_any_part(input_name, extracted_name):\n",
    "        match_score += 20\n",
    "    if circular_match(input_name, extracted_name):\n",
    "        match_score += 20\n",
    "    if single_letter_abbreviation(input_name, extracted_name):\n",
    "        match_score += 20\n",
    "    return min(match_score, 100)\n"
   ]
  },
  {
   "cell_type": "code",
   "execution_count": 36,
   "id": "352cc890-ee31-4927-96cb-9fa4bfa0d0dd",
   "metadata": {},
   "outputs": [],
   "source": [
    "# Function to calculate similarity ratio\n",
    "def similarity_ratio(a, b):\n",
    "    return SequenceMatcher(None, a, b).ratio()\n",
    "\n"
   ]
  },
  {
   "cell_type": "code",
   "execution_count": 37,
   "id": "691b0ff1-4b40-4720-8166-d0a03a3b1569",
   "metadata": {},
   "outputs": [],
   "source": [
    "# Functions to match specific address components\n",
    "def house_flat_match(input_address, extracted_address):\n",
    "    # Extract house/flat number from addresses\n",
    "    house_flat_input = re.search(r'\\b\\d+[a-zA-Z]?\\b', input_address)\n",
    "    house_flat_extracted = re.search(r'\\b\\d+[a-zA-Z]?\\b', extracted_address)\n",
    "    if house_flat_input and house_flat_extracted:\n",
    "        return similarity_ratio(house_flat_input.group(), house_flat_extracted.group()) * 100\n",
    "    return 0\n"
   ]
  },
  {
   "cell_type": "code",
   "execution_count": 38,
   "id": "284697ed-cb25-4c49-883e-754d98ef8a9b",
   "metadata": {},
   "outputs": [],
   "source": [
    "def street_road_match(input_address, extracted_address):\n",
    "    # Extract street/road name from addresses\n",
    "    input_address = normalize_address(input_address)\n",
    "    extracted_address = normalize_address(extracted_address)\n",
    "    input_street = ' '.join([word for word in input_address.split() if not word.isdigit()])\n",
    "    extracted_street = ' '.join([word for word in extracted_address.split() if not word.isdigit()])\n",
    "    return similarity_ratio(input_street, extracted_street) * 100\n"
   ]
  },
  {
   "cell_type": "code",
   "execution_count": 39,
   "id": "a375a8c9-056a-4081-aaf3-0dd8654c1666",
   "metadata": {},
   "outputs": [],
   "source": [
    "def city_match(input_address, extracted_address):\n",
    "    # Extract city from addresses\n",
    "    city_input = re.search(r'\\b[a-zA-Z]+\\b', input_address, re.IGNORECASE)\n",
    "    city_extracted = re.search(r'\\b[a-zA-Z]+\\b', extracted_address, re.IGNORECASE)\n",
    "    if city_input and city_extracted:\n",
    "        return similarity_ratio(city_input.group(), city_extracted.group()) * 100\n",
    "    return 0\n"
   ]
  },
  {
   "cell_type": "code",
   "execution_count": 40,
   "id": "427af791-074c-4bea-93e1-ce71cb47c75f",
   "metadata": {},
   "outputs": [],
   "source": [
    "def floor_number_match(input_address, extracted_address):\n",
    "    # Extract floor number from addresses\n",
    "    floor_input = re.search(r'\\b\\d+[a-zA-Z]*\\b', input_address)\n",
    "    floor_extracted = re.search(r'\\b\\d+[a-zA-Z]*\\b', extracted_address)\n",
    "    if floor_input and floor_extracted:\n",
    "        return similarity_ratio(floor_input.group(), floor_extracted.group()) * 100\n",
    "    return 0\n"
   ]
  },
  {
   "cell_type": "code",
   "execution_count": 41,
   "id": "29d8256b-397a-4a72-8539-b3c79956f5fe",
   "metadata": {},
   "outputs": [],
   "source": [
    "def pincode_match(input_address, extracted_address):\n",
    "    # Extract pin code from addresses\n",
    "    pincode_input = re.search(r'\\b\\d{6}\\b', input_address)\n",
    "    pincode_extracted = re.search(r'\\b\\d{6}\\b', extracted_address)\n",
    "    if pincode_input and pincode_extracted:\n",
    "        return similarity_ratio(pincode_input.group(), pincode_extracted.group()) * 100\n",
    "    return 0\n"
   ]
  },
  {
   "cell_type": "code",
   "execution_count": 42,
   "id": "a8fac9f3-f454-4d9d-be22-9cbe99dc757d",
   "metadata": {},
   "outputs": [],
   "source": [
    "def premise_building_match(input_address, extracted_address):\n",
    "    # Extract premise/building from addresses\n",
    "    premise_input = re.search(r'\\b[a-zA-Z]+\\b', input_address, re.IGNORECASE)\n",
    "    premise_extracted = re.search(r'\\b[a-zA-Z]+\\b', extracted_address, re.IGNORECASE)\n",
    "    if premise_input and premise_extracted:\n",
    "        return similarity_ratio(premise_input.group(), premise_extracted.group()) * 100\n",
    "    return 0\n"
   ]
  },
  {
   "cell_type": "code",
   "execution_count": 43,
   "id": "b3d2103d-ee0b-4b46-ab8b-46862aaeaa83",
   "metadata": {},
   "outputs": [],
   "source": [
    "def landmark_match(input_address, extracted_address):\n",
    "    # Extract landmark from addresses if any (e.g., near, beside)\n",
    "    landmark_input = re.search(r'\\bnear\\b.*', input_address, re.IGNORECASE)\n",
    "    landmark_extracted = re.search(r'\\bnear\\b.*', extracted_address, re.IGNORECASE)\n",
    "    if landmark_input and landmark_extracted:\n",
    "        return similarity_ratio(landmark_input.group(), landmark_extracted.group()) * 100\n",
    "    return 0\n"
   ]
  },
  {
   "cell_type": "code",
   "execution_count": 44,
   "id": "a9656d4f-1b56-427f-94eb-83d0e31796d7",
   "metadata": {},
   "outputs": [],
   "source": [
    "def state_match(input_address, extracted_address):\n",
    "    # Extract state from addresses\n",
    "    state_input = re.search(r'\\b[a-zA-Z]+\\b', input_address, re.IGNORECASE)\n",
    "    state_extracted = re.search(r'\\b[a-zA-Z]+\\b', extracted_address, re.IGNORECASE)\n",
    "    if state_input and state_extracted:\n",
    "        return similarity_ratio(state_input.group(), state_extracted.group()) * 100\n",
    "    return 0\n"
   ]
  },
  {
   "cell_type": "code",
   "execution_count": 45,
   "id": "cb218b96-925c-4aee-a29e-56bde0f5e43e",
   "metadata": {},
   "outputs": [],
   "source": [
    "# Function to match addresses based on normalization and field-specific matching\n",
    "\n",
    "def address_match(input_address, extracted_address, cutoff=70):\n",
    "    # Calculate individual component scores\n",
    "    house_flat_score = house_flat_match(input_address, extracted_address)\n",
    "    street_road_score = street_road_match(input_address, extracted_address)\n",
    "    city_score = city_match(input_address, extracted_address)\n",
    "    floor_number_score = floor_number_match(input_address, extracted_address)\n",
    "    pincode_score = pincode_match(input_address, extracted_address)\n",
    "    premise_building_score = premise_building_match(input_address, extracted_address)\n",
    "    landmark_score = landmark_match(input_address, extracted_address)\n",
    "    state_score = state_match(input_address, extracted_address)\n",
    "\n",
    "    # Assign weights to each component (example weights, adjust as needed)\n",
    "    weights = {\n",
    "        \"house_flat\": 0.15,\n",
    "        \"street_road\": 0.15,\n",
    "        \"city\": 0.15,\n",
    "        \"floor_number\": 0.10,\n",
    "        \"pincode\": 0.20,\n",
    "        \"premise_building\": 0.10,\n",
    "        \"landmark\": 0.10,\n",
    "        \"state\": 0.05\n",
    "    }\n",
    "\n",
    "    # Compute weighted average of scores\n",
    "    total_score = (\n",
    "        (house_flat_score or 0) * weights[\"house_flat\"] +\n",
    "        (street_road_score or 0) * weights[\"street_road\"] +\n",
    "        (city_score or 0) * weights[\"city\"] +\n",
    "        (floor_number_score or 0) * weights[\"floor_number\"] +\n",
    "        (pincode_score or 0) * weights[\"pincode\"] +\n",
    "        (premise_building_score or 0) * weights[\"premise_building\"] +\n",
    "        (landmark_score or 0) * weights[\"landmark\"] +\n",
    "        (state_score or 0) * weights[\"state\"]\n",
    "    )\n",
    "\n",
    "    # Normalize to 100\n",
    "    normalized_score = total_score * 100\n",
    "\n",
    "    # Return the score only if it meets the cutoff\n",
    "    return normalized_score if normalized_score >= cutoff else 0\n"
   ]
  },
  {
   "cell_type": "code",
   "execution_count": 46,
   "id": "deddf5a0-3831-48e6-bbc1-5b45d601eaa1",
   "metadata": {},
   "outputs": [],
   "source": [
    "# Weighted sum of the individual scores\n",
    "    \n",
    "def calculate_final_score(house_flat_score, street_road_score, city_score, floor_number_score, \n",
    "                          pincode_score, premise_building_score, landmark_score, state_score, cutoff):\n",
    "    final_score = (\n",
    "        house_flat_score * 0.15 + \n",
    "        street_road_score * 0.15 + \n",
    "        city_score * 0.10 + \n",
    "        floor_number_score * 0.10 + \n",
    "        pincode_score * 0.15 + \n",
    "        premise_building_score * 0.10 + \n",
    "        landmark_score * 0.10 + \n",
    "        state_score * 0.15\n",
    "    )\n",
    "\n",
    "    if final_score >= cutoff:\n",
    "        return final_score\n",
    "    return final_score\n",
    "\n"
   ]
  },
  {
   "cell_type": "code",
   "execution_count": 47,
   "id": "80e2b881-4569-4c3f-8a05-84eaea94c5df",
   "metadata": {},
   "outputs": [],
   "source": [
    "# Function to check exact match for UID\n",
    "def uid_match(input_uid, extracted_uid):\n",
    "    return 100 if input_uid == extracted_uid else 0\n"
   ]
  },
  {
   "cell_type": "code",
   "execution_count": 48,
   "id": "2658a5f5-69ba-4301-8631-f70a2cdb3768",
   "metadata": {},
   "outputs": [],
   "source": [
    "# Function to match names based on various rules\n",
    "def name_match(input_name, extracted_name):\n",
    "    match_score = 0\n",
    "    if exact_letter_match(input_name, extracted_name):\n",
    "        match_score += 20\n",
    "    if abbreviated_name_match(input_name, extracted_name):\n",
    "        match_score += 20\n",
    "    if ignore_middle_names(input_name, extracted_name):\n",
    "        match_score += 20\n",
    "    if match_any_part(input_name, extracted_name):\n",
    "        match_score += 20\n",
    "    if circular_match(input_name, extracted_name):\n",
    "        match_score += 20\n",
    "    if single_letter_abbreviation(input_name, extracted_name):\n",
    "        match_score += 20\n",
    "    return min(match_score, 100)\n"
   ]
  },
  {
   "cell_type": "code",
   "execution_count": 49,
   "id": "2f954133-4ef2-4edf-9c4d-60fe2e83961c",
   "metadata": {},
   "outputs": [],
   "source": [
    "# Function to evaluate overall match\n",
    "\n",
    "def overall_match(input_name, extracted_name, input_address, extracted_address, input_uid, extracted_uid):\n",
    "    # Compute scores with fallback to 0 for None\n",
    "    name_score = name_match(input_name, extracted_name) or 0\n",
    "    address_score = address_match(input_address, extracted_address) or 0\n",
    "    uid_score = uid_match(input_uid, extracted_uid) or 0\n",
    "\n",
    "    # Calculate the weighted overall score\n",
    "    overall_score = (name_score * 0.4) + (address_score * 0.4) + (uid_score * 0.2)  # 40% Name, 40% Address, 20% UID\n",
    "    return overall_score\n",
    "\n"
   ]
  },
  {
   "cell_type": "code",
   "execution_count": 52,
   "id": "92c19577-2d74-4a18-8db0-3b9993916eb2",
   "metadata": {},
   "outputs": [
    {
     "name": "stdout",
     "output_type": "stream",
     "text": [
      "Index(['SrNo', 'House Flat Number', 'House Flat Number Match Score', 'Town',\n",
      "       'Street Road Name', 'Street Road Name Match Score',\n",
      "       'Street Road Name Match Score.1', 'City', 'City Match Score',\n",
      "       ' Floor Number', 'Floor Number Match Score', 'Country', 'PINCODE',\n",
      "       'PINCODE Match Score', 'Premise Building Name',\n",
      "       'Premise Building Name Match Score', 'Landmark', 'Landmark Match Score',\n",
      "       'State', 'State Match Score', 'Name', 'Name extracted from OVD',\n",
      "       'Name match percentage', 'Name Match Score', 'UID',\n",
      "       'UID Extracted From OVD', 'UID Match Score',\n",
      "       'Address Extracted From OVD', 'Final Address Match',\n",
      "       'Final Address Match Score', 'Overall Match', 'Final Remarks',\n",
      "       'Document Type'],\n",
      "      dtype='object')\n"
     ]
    }
   ],
   "source": [
    "import pandas as pd\n",
    "\n",
    "file_path = \"/Users/admin/Documents/My_projects/adar/dataset/input file.xlsx\"\n",
    "df = pd.read_excel(file_path)\n",
    "print(df.columns)  # Print column names to verify\n",
    "\n"
   ]
  },
  {
   "cell_type": "code",
   "execution_count": 53,
   "id": "3b1d2656-ef92-456e-a5ba-5bef6820009a",
   "metadata": {},
   "outputs": [
    {
     "ename": "KeyError",
     "evalue": "'address'",
     "output_type": "error",
     "traceback": [
      "\u001b[1;31m---------------------------------------------------------------------------\u001b[0m",
      "\u001b[1;31mKeyError\u001b[0m                                  Traceback (most recent call last)",
      "File \u001b[1;32m~\\anaconda3\\envs\\yolo11\\Lib\\site-packages\\pandas\\core\\indexes\\base.py:3805\u001b[0m, in \u001b[0;36mIndex.get_loc\u001b[1;34m(self, key)\u001b[0m\n\u001b[0;32m   3804\u001b[0m \u001b[38;5;28;01mtry\u001b[39;00m:\n\u001b[1;32m-> 3805\u001b[0m     \u001b[38;5;28;01mreturn\u001b[39;00m \u001b[38;5;28mself\u001b[39m\u001b[38;5;241m.\u001b[39m_engine\u001b[38;5;241m.\u001b[39mget_loc(casted_key)\n\u001b[0;32m   3806\u001b[0m \u001b[38;5;28;01mexcept\u001b[39;00m \u001b[38;5;167;01mKeyError\u001b[39;00m \u001b[38;5;28;01mas\u001b[39;00m err:\n",
      "File \u001b[1;32mindex.pyx:167\u001b[0m, in \u001b[0;36mpandas._libs.index.IndexEngine.get_loc\u001b[1;34m()\u001b[0m\n",
      "File \u001b[1;32mindex.pyx:196\u001b[0m, in \u001b[0;36mpandas._libs.index.IndexEngine.get_loc\u001b[1;34m()\u001b[0m\n",
      "File \u001b[1;32mpandas\\\\_libs\\\\hashtable_class_helper.pxi:7081\u001b[0m, in \u001b[0;36mpandas._libs.hashtable.PyObjectHashTable.get_item\u001b[1;34m()\u001b[0m\n",
      "File \u001b[1;32mpandas\\\\_libs\\\\hashtable_class_helper.pxi:7089\u001b[0m, in \u001b[0;36mpandas._libs.hashtable.PyObjectHashTable.get_item\u001b[1;34m()\u001b[0m\n",
      "\u001b[1;31mKeyError\u001b[0m: 'address'",
      "\nThe above exception was the direct cause of the following exception:\n",
      "\u001b[1;31mKeyError\u001b[0m                                  Traceback (most recent call last)",
      "Cell \u001b[1;32mIn[53], line 36\u001b[0m\n\u001b[0;32m     34\u001b[0m \u001b[38;5;66;03m# Example usage\u001b[39;00m\n\u001b[0;32m     35\u001b[0m file_path \u001b[38;5;241m=\u001b[39m \u001b[38;5;124m\"\u001b[39m\u001b[38;5;124m/Users/admin/Documents/My_projects/adar/dataset/input file.xlsx\u001b[39m\u001b[38;5;124m\"\u001b[39m  \u001b[38;5;66;03m# Update with the correct file path\u001b[39;00m\n\u001b[1;32m---> 36\u001b[0m run_tests_from_excel(file_path)\n",
      "Cell \u001b[1;32mIn[53], line 14\u001b[0m, in \u001b[0;36mrun_tests_from_excel\u001b[1;34m(file_path)\u001b[0m\n\u001b[0;32m     12\u001b[0m input_name \u001b[38;5;241m=\u001b[39m row[\u001b[38;5;124m'\u001b[39m\u001b[38;5;124mname\u001b[39m\u001b[38;5;124m'\u001b[39m]\n\u001b[0;32m     13\u001b[0m extracted_name \u001b[38;5;241m=\u001b[39m row[\u001b[38;5;124m'\u001b[39m\u001b[38;5;124mname\u001b[39m\u001b[38;5;124m'\u001b[39m]  \u001b[38;5;66;03m# Assuming same column for simplicity\u001b[39;00m\n\u001b[1;32m---> 14\u001b[0m input_address \u001b[38;5;241m=\u001b[39m row[\u001b[38;5;124m'\u001b[39m\u001b[38;5;124maddress\u001b[39m\u001b[38;5;124m'\u001b[39m]\n\u001b[0;32m     15\u001b[0m extracted_address \u001b[38;5;241m=\u001b[39m row[\u001b[38;5;124m'\u001b[39m\u001b[38;5;124maddress\u001b[39m\u001b[38;5;124m'\u001b[39m]  \u001b[38;5;66;03m# Assuming same column for simplicity\u001b[39;00m\n\u001b[0;32m     16\u001b[0m input_uid \u001b[38;5;241m=\u001b[39m row[\u001b[38;5;124m'\u001b[39m\u001b[38;5;124muid\u001b[39m\u001b[38;5;124m'\u001b[39m]\n",
      "File \u001b[1;32m~\\anaconda3\\envs\\yolo11\\Lib\\site-packages\\pandas\\core\\series.py:1121\u001b[0m, in \u001b[0;36mSeries.__getitem__\u001b[1;34m(self, key)\u001b[0m\n\u001b[0;32m   1118\u001b[0m     \u001b[38;5;28;01mreturn\u001b[39;00m \u001b[38;5;28mself\u001b[39m\u001b[38;5;241m.\u001b[39m_values[key]\n\u001b[0;32m   1120\u001b[0m \u001b[38;5;28;01melif\u001b[39;00m key_is_scalar:\n\u001b[1;32m-> 1121\u001b[0m     \u001b[38;5;28;01mreturn\u001b[39;00m \u001b[38;5;28mself\u001b[39m\u001b[38;5;241m.\u001b[39m_get_value(key)\n\u001b[0;32m   1123\u001b[0m \u001b[38;5;66;03m# Convert generator to list before going through hashable part\u001b[39;00m\n\u001b[0;32m   1124\u001b[0m \u001b[38;5;66;03m# (We will iterate through the generator there to check for slices)\u001b[39;00m\n\u001b[0;32m   1125\u001b[0m \u001b[38;5;28;01mif\u001b[39;00m is_iterator(key):\n",
      "File \u001b[1;32m~\\anaconda3\\envs\\yolo11\\Lib\\site-packages\\pandas\\core\\series.py:1237\u001b[0m, in \u001b[0;36mSeries._get_value\u001b[1;34m(self, label, takeable)\u001b[0m\n\u001b[0;32m   1234\u001b[0m     \u001b[38;5;28;01mreturn\u001b[39;00m \u001b[38;5;28mself\u001b[39m\u001b[38;5;241m.\u001b[39m_values[label]\n\u001b[0;32m   1236\u001b[0m \u001b[38;5;66;03m# Similar to Index.get_value, but we do not fall back to positional\u001b[39;00m\n\u001b[1;32m-> 1237\u001b[0m loc \u001b[38;5;241m=\u001b[39m \u001b[38;5;28mself\u001b[39m\u001b[38;5;241m.\u001b[39mindex\u001b[38;5;241m.\u001b[39mget_loc(label)\n\u001b[0;32m   1239\u001b[0m \u001b[38;5;28;01mif\u001b[39;00m is_integer(loc):\n\u001b[0;32m   1240\u001b[0m     \u001b[38;5;28;01mreturn\u001b[39;00m \u001b[38;5;28mself\u001b[39m\u001b[38;5;241m.\u001b[39m_values[loc]\n",
      "File \u001b[1;32m~\\anaconda3\\envs\\yolo11\\Lib\\site-packages\\pandas\\core\\indexes\\base.py:3812\u001b[0m, in \u001b[0;36mIndex.get_loc\u001b[1;34m(self, key)\u001b[0m\n\u001b[0;32m   3807\u001b[0m     \u001b[38;5;28;01mif\u001b[39;00m \u001b[38;5;28misinstance\u001b[39m(casted_key, \u001b[38;5;28mslice\u001b[39m) \u001b[38;5;129;01mor\u001b[39;00m (\n\u001b[0;32m   3808\u001b[0m         \u001b[38;5;28misinstance\u001b[39m(casted_key, abc\u001b[38;5;241m.\u001b[39mIterable)\n\u001b[0;32m   3809\u001b[0m         \u001b[38;5;129;01mand\u001b[39;00m \u001b[38;5;28many\u001b[39m(\u001b[38;5;28misinstance\u001b[39m(x, \u001b[38;5;28mslice\u001b[39m) \u001b[38;5;28;01mfor\u001b[39;00m x \u001b[38;5;129;01min\u001b[39;00m casted_key)\n\u001b[0;32m   3810\u001b[0m     ):\n\u001b[0;32m   3811\u001b[0m         \u001b[38;5;28;01mraise\u001b[39;00m InvalidIndexError(key)\n\u001b[1;32m-> 3812\u001b[0m     \u001b[38;5;28;01mraise\u001b[39;00m \u001b[38;5;167;01mKeyError\u001b[39;00m(key) \u001b[38;5;28;01mfrom\u001b[39;00m \u001b[38;5;21;01merr\u001b[39;00m\n\u001b[0;32m   3813\u001b[0m \u001b[38;5;28;01mexcept\u001b[39;00m \u001b[38;5;167;01mTypeError\u001b[39;00m:\n\u001b[0;32m   3814\u001b[0m     \u001b[38;5;66;03m# If we have a listlike key, _check_indexing_error will raise\u001b[39;00m\n\u001b[0;32m   3815\u001b[0m     \u001b[38;5;66;03m#  InvalidIndexError. Otherwise we fall through and re-raise\u001b[39;00m\n\u001b[0;32m   3816\u001b[0m     \u001b[38;5;66;03m#  the TypeError.\u001b[39;00m\n\u001b[0;32m   3817\u001b[0m     \u001b[38;5;28mself\u001b[39m\u001b[38;5;241m.\u001b[39m_check_indexing_error(key)\n",
      "\u001b[1;31mKeyError\u001b[0m: 'address'"
     ]
    }
   ],
   "source": [
    "import pandas as pd\n",
    "\n",
    "def run_tests_from_excel(file_path):\n",
    "    # Load the Excel file\n",
    "    df = pd.read_excel(file_path)\n",
    "    \n",
    "    # Normalize column names (if needed)\n",
    "    df.columns = df.columns.str.strip().str.lower()  # Optional: Lowercase column names\n",
    "    \n",
    "    # Iterate through each row of the DataFrame\n",
    "    for index, row in df.iterrows():\n",
    "        input_name = row['name']\n",
    "        extracted_name = row['name']  # Assuming same column for simplicity\n",
    "        input_address = row['address']\n",
    "        extracted_address = row['address']  # Assuming same column for simplicity\n",
    "        input_uid = row['uid']\n",
    "        extracted_uid = row['uid']  # Assuming same column for simplicity\n",
    "        \n",
    "        # Run your test functions\n",
    "        print(f\"Testing: {input_name} vs {extracted_name}, {input_address} vs {extracted_address}, {input_uid} vs {extracted_uid}\")\n",
    "        print(f\"Name Match Score: {name_match(input_name, extracted_name)}\")\n",
    "        print(f\"House/Flat Match Score: {house_flat_match(input_address, extracted_address)}\")\n",
    "        print(f\"Street/Road Match Score: {street_road_match(input_address, extracted_address)}\")\n",
    "        print(f\"City Match Score: {city_match(input_address, extracted_address)}\")\n",
    "        print(f\"Floor Number Match Score: {floor_number_match(input_address, extracted_address)}\")\n",
    "        print(f\"Pincode Match Score: {pincode_match(input_address, extracted_address)}\")\n",
    "        print(f\"Premise/Building Match Score: {premise_building_match(input_address, extracted_address)}\")\n",
    "        print(f\"Landmark Match Score: {landmark_match(input_address, extracted_address)}\")\n",
    "        print(f\"State Match Score: {state_match(input_address, extracted_address)}\")\n",
    "        print(f\"Final Address Match Score: {address_match(input_address, extracted_address)}\")\n",
    "        print(f\"UID Match Score: {uid_match(input_uid, extracted_uid)}\")\n",
    "        print(f\"Overall Match Score: {overall_match(input_name, extracted_name, input_address, extracted_address, input_uid, extracted_uid)}\")\n",
    "\n",
    "# Example usage\n",
    "file_path = \"/Users/admin/Documents/My_projects/adar/dataset/input file.xlsx\"  # Update with the correct file path\n",
    "run_tests_from_excel(file_path)\n"
   ]
  },
  {
   "cell_type": "code",
   "execution_count": 54,
   "id": "d6fed370-51c7-4ba4-acfe-c07ab6a8b338",
   "metadata": {},
   "outputs": [
    {
     "name": "stdout",
     "output_type": "stream",
     "text": [
      "Available columns: Index(['srno', 'house_flat_number', 'house_flat_number_match_score', 'town',\n",
      "       'street_road_name', 'street_road_name_match_score',\n",
      "       'street_road_name_match_score.1', 'city', 'city_match_score',\n",
      "       'floor_number', 'floor_number_match_score', 'country', 'pincode',\n",
      "       'pincode_match_score', 'premise_building_name',\n",
      "       'premise_building_name_match_score', 'landmark', 'landmark_match_score',\n",
      "       'state', 'state_match_score', 'name', 'name_extracted_from_ovd',\n",
      "       'name_match_percentage', 'name_match_score', 'uid',\n",
      "       'uid_extracted_from_ovd', 'uid_match_score',\n",
      "       'address_extracted_from_ovd', 'final_address_match',\n",
      "       'final_address_match_score', 'overall_match', 'final_remarks',\n",
      "       'document_type'],\n",
      "      dtype='object')\n"
     ]
    },
    {
     "ename": "TypeError",
     "evalue": "sequence item 4: expected str instance, int found",
     "output_type": "error",
     "traceback": [
      "\u001b[1;31m---------------------------------------------------------------------------\u001b[0m",
      "\u001b[1;31mTypeError\u001b[0m                                 Traceback (most recent call last)",
      "Cell \u001b[1;32mIn[54], line 39\u001b[0m\n\u001b[0;32m     37\u001b[0m \u001b[38;5;66;03m# Example usage\u001b[39;00m\n\u001b[0;32m     38\u001b[0m file_path \u001b[38;5;241m=\u001b[39m \u001b[38;5;124m\"\u001b[39m\u001b[38;5;124m/Users/admin/Documents/My_projects/adar/dataset/input file.xlsx\u001b[39m\u001b[38;5;124m\"\u001b[39m\n\u001b[1;32m---> 39\u001b[0m run_tests_from_excel(file_path)\n",
      "Cell \u001b[1;32mIn[54], line 20\u001b[0m, in \u001b[0;36mrun_tests_from_excel\u001b[1;34m(file_path)\u001b[0m\n\u001b[0;32m     17\u001b[0m         \u001b[38;5;28;01mraise\u001b[39;00m \u001b[38;5;167;01mKeyError\u001b[39;00m(\u001b[38;5;124mf\u001b[39m\u001b[38;5;124m\"\u001b[39m\u001b[38;5;124mMissing required column: \u001b[39m\u001b[38;5;132;01m{\u001b[39;00mcol\u001b[38;5;132;01m}\u001b[39;00m\u001b[38;5;124m\"\u001b[39m)\n\u001b[0;32m     19\u001b[0m \u001b[38;5;66;03m# Create 'address' column if needed\u001b[39;00m\n\u001b[1;32m---> 20\u001b[0m df[\u001b[38;5;124m'\u001b[39m\u001b[38;5;124maddress\u001b[39m\u001b[38;5;124m'\u001b[39m] \u001b[38;5;241m=\u001b[39m df[[\u001b[38;5;124m'\u001b[39m\u001b[38;5;124mhouse_flat_number\u001b[39m\u001b[38;5;124m'\u001b[39m, \u001b[38;5;124m'\u001b[39m\u001b[38;5;124mstreet_road_name\u001b[39m\u001b[38;5;124m'\u001b[39m, \u001b[38;5;124m'\u001b[39m\u001b[38;5;124mcity\u001b[39m\u001b[38;5;124m'\u001b[39m, \u001b[38;5;124m'\u001b[39m\u001b[38;5;124mstate\u001b[39m\u001b[38;5;124m'\u001b[39m, \u001b[38;5;124m'\u001b[39m\u001b[38;5;124mpincode\u001b[39m\u001b[38;5;124m'\u001b[39m]]\u001b[38;5;241m.\u001b[39mfillna(\u001b[38;5;124m'\u001b[39m\u001b[38;5;124m'\u001b[39m)\u001b[38;5;241m.\u001b[39magg(\u001b[38;5;124m'\u001b[39m\u001b[38;5;124m, \u001b[39m\u001b[38;5;124m'\u001b[39m\u001b[38;5;241m.\u001b[39mjoin, axis\u001b[38;5;241m=\u001b[39m\u001b[38;5;241m1\u001b[39m)\n\u001b[0;32m     22\u001b[0m \u001b[38;5;66;03m# Iterate through each row of the DataFrame\u001b[39;00m\n\u001b[0;32m     23\u001b[0m \u001b[38;5;28;01mfor\u001b[39;00m index, row \u001b[38;5;129;01min\u001b[39;00m df\u001b[38;5;241m.\u001b[39miterrows():\n",
      "File \u001b[1;32m~\\anaconda3\\envs\\yolo11\\Lib\\site-packages\\pandas\\core\\frame.py:10149\u001b[0m, in \u001b[0;36mDataFrame.aggregate\u001b[1;34m(self, func, axis, *args, **kwargs)\u001b[0m\n\u001b[0;32m  10146\u001b[0m axis \u001b[38;5;241m=\u001b[39m \u001b[38;5;28mself\u001b[39m\u001b[38;5;241m.\u001b[39m_get_axis_number(axis)\n\u001b[0;32m  10148\u001b[0m op \u001b[38;5;241m=\u001b[39m frame_apply(\u001b[38;5;28mself\u001b[39m, func\u001b[38;5;241m=\u001b[39mfunc, axis\u001b[38;5;241m=\u001b[39maxis, args\u001b[38;5;241m=\u001b[39margs, kwargs\u001b[38;5;241m=\u001b[39mkwargs)\n\u001b[1;32m> 10149\u001b[0m result \u001b[38;5;241m=\u001b[39m op\u001b[38;5;241m.\u001b[39magg()\n\u001b[0;32m  10150\u001b[0m result \u001b[38;5;241m=\u001b[39m reconstruct_and_relabel_result(result, func, \u001b[38;5;241m*\u001b[39m\u001b[38;5;241m*\u001b[39mkwargs)\n\u001b[0;32m  10151\u001b[0m \u001b[38;5;28;01mreturn\u001b[39;00m result\n",
      "File \u001b[1;32m~\\anaconda3\\envs\\yolo11\\Lib\\site-packages\\pandas\\core\\apply.py:937\u001b[0m, in \u001b[0;36mFrameApply.agg\u001b[1;34m(self)\u001b[0m\n\u001b[0;32m    934\u001b[0m     result \u001b[38;5;241m=\u001b[39m result\u001b[38;5;241m.\u001b[39mT \u001b[38;5;28;01mif\u001b[39;00m result \u001b[38;5;129;01mis\u001b[39;00m \u001b[38;5;129;01mnot\u001b[39;00m \u001b[38;5;28;01mNone\u001b[39;00m \u001b[38;5;28;01melse\u001b[39;00m result\n\u001b[0;32m    936\u001b[0m \u001b[38;5;28;01mif\u001b[39;00m result \u001b[38;5;129;01mis\u001b[39;00m \u001b[38;5;28;01mNone\u001b[39;00m:\n\u001b[1;32m--> 937\u001b[0m     result \u001b[38;5;241m=\u001b[39m \u001b[38;5;28mself\u001b[39m\u001b[38;5;241m.\u001b[39mobj\u001b[38;5;241m.\u001b[39mapply(\u001b[38;5;28mself\u001b[39m\u001b[38;5;241m.\u001b[39mfunc, axis, args\u001b[38;5;241m=\u001b[39m\u001b[38;5;28mself\u001b[39m\u001b[38;5;241m.\u001b[39margs, \u001b[38;5;241m*\u001b[39m\u001b[38;5;241m*\u001b[39m\u001b[38;5;28mself\u001b[39m\u001b[38;5;241m.\u001b[39mkwargs)\n\u001b[0;32m    939\u001b[0m \u001b[38;5;28;01mreturn\u001b[39;00m result\n",
      "File \u001b[1;32m~\\anaconda3\\envs\\yolo11\\Lib\\site-packages\\pandas\\core\\frame.py:10374\u001b[0m, in \u001b[0;36mDataFrame.apply\u001b[1;34m(self, func, axis, raw, result_type, args, by_row, engine, engine_kwargs, **kwargs)\u001b[0m\n\u001b[0;32m  10360\u001b[0m \u001b[38;5;28;01mfrom\u001b[39;00m \u001b[38;5;21;01mpandas\u001b[39;00m\u001b[38;5;21;01m.\u001b[39;00m\u001b[38;5;21;01mcore\u001b[39;00m\u001b[38;5;21;01m.\u001b[39;00m\u001b[38;5;21;01mapply\u001b[39;00m \u001b[38;5;28;01mimport\u001b[39;00m frame_apply\n\u001b[0;32m  10362\u001b[0m op \u001b[38;5;241m=\u001b[39m frame_apply(\n\u001b[0;32m  10363\u001b[0m     \u001b[38;5;28mself\u001b[39m,\n\u001b[0;32m  10364\u001b[0m     func\u001b[38;5;241m=\u001b[39mfunc,\n\u001b[1;32m   (...)\u001b[0m\n\u001b[0;32m  10372\u001b[0m     kwargs\u001b[38;5;241m=\u001b[39mkwargs,\n\u001b[0;32m  10373\u001b[0m )\n\u001b[1;32m> 10374\u001b[0m \u001b[38;5;28;01mreturn\u001b[39;00m op\u001b[38;5;241m.\u001b[39mapply()\u001b[38;5;241m.\u001b[39m__finalize__(\u001b[38;5;28mself\u001b[39m, method\u001b[38;5;241m=\u001b[39m\u001b[38;5;124m\"\u001b[39m\u001b[38;5;124mapply\u001b[39m\u001b[38;5;124m\"\u001b[39m)\n",
      "File \u001b[1;32m~\\anaconda3\\envs\\yolo11\\Lib\\site-packages\\pandas\\core\\apply.py:916\u001b[0m, in \u001b[0;36mFrameApply.apply\u001b[1;34m(self)\u001b[0m\n\u001b[0;32m    913\u001b[0m \u001b[38;5;28;01melif\u001b[39;00m \u001b[38;5;28mself\u001b[39m\u001b[38;5;241m.\u001b[39mraw:\n\u001b[0;32m    914\u001b[0m     \u001b[38;5;28;01mreturn\u001b[39;00m \u001b[38;5;28mself\u001b[39m\u001b[38;5;241m.\u001b[39mapply_raw(engine\u001b[38;5;241m=\u001b[39m\u001b[38;5;28mself\u001b[39m\u001b[38;5;241m.\u001b[39mengine, engine_kwargs\u001b[38;5;241m=\u001b[39m\u001b[38;5;28mself\u001b[39m\u001b[38;5;241m.\u001b[39mengine_kwargs)\n\u001b[1;32m--> 916\u001b[0m \u001b[38;5;28;01mreturn\u001b[39;00m \u001b[38;5;28mself\u001b[39m\u001b[38;5;241m.\u001b[39mapply_standard()\n",
      "File \u001b[1;32m~\\anaconda3\\envs\\yolo11\\Lib\\site-packages\\pandas\\core\\apply.py:1063\u001b[0m, in \u001b[0;36mFrameApply.apply_standard\u001b[1;34m(self)\u001b[0m\n\u001b[0;32m   1061\u001b[0m \u001b[38;5;28;01mdef\u001b[39;00m \u001b[38;5;21mapply_standard\u001b[39m(\u001b[38;5;28mself\u001b[39m):\n\u001b[0;32m   1062\u001b[0m     \u001b[38;5;28;01mif\u001b[39;00m \u001b[38;5;28mself\u001b[39m\u001b[38;5;241m.\u001b[39mengine \u001b[38;5;241m==\u001b[39m \u001b[38;5;124m\"\u001b[39m\u001b[38;5;124mpython\u001b[39m\u001b[38;5;124m\"\u001b[39m:\n\u001b[1;32m-> 1063\u001b[0m         results, res_index \u001b[38;5;241m=\u001b[39m \u001b[38;5;28mself\u001b[39m\u001b[38;5;241m.\u001b[39mapply_series_generator()\n\u001b[0;32m   1064\u001b[0m     \u001b[38;5;28;01melse\u001b[39;00m:\n\u001b[0;32m   1065\u001b[0m         results, res_index \u001b[38;5;241m=\u001b[39m \u001b[38;5;28mself\u001b[39m\u001b[38;5;241m.\u001b[39mapply_series_numba()\n",
      "File \u001b[1;32m~\\anaconda3\\envs\\yolo11\\Lib\\site-packages\\pandas\\core\\apply.py:1081\u001b[0m, in \u001b[0;36mFrameApply.apply_series_generator\u001b[1;34m(self)\u001b[0m\n\u001b[0;32m   1078\u001b[0m \u001b[38;5;28;01mwith\u001b[39;00m option_context(\u001b[38;5;124m\"\u001b[39m\u001b[38;5;124mmode.chained_assignment\u001b[39m\u001b[38;5;124m\"\u001b[39m, \u001b[38;5;28;01mNone\u001b[39;00m):\n\u001b[0;32m   1079\u001b[0m     \u001b[38;5;28;01mfor\u001b[39;00m i, v \u001b[38;5;129;01min\u001b[39;00m \u001b[38;5;28menumerate\u001b[39m(series_gen):\n\u001b[0;32m   1080\u001b[0m         \u001b[38;5;66;03m# ignore SettingWithCopy here in case the user mutates\u001b[39;00m\n\u001b[1;32m-> 1081\u001b[0m         results[i] \u001b[38;5;241m=\u001b[39m \u001b[38;5;28mself\u001b[39m\u001b[38;5;241m.\u001b[39mfunc(v, \u001b[38;5;241m*\u001b[39m\u001b[38;5;28mself\u001b[39m\u001b[38;5;241m.\u001b[39margs, \u001b[38;5;241m*\u001b[39m\u001b[38;5;241m*\u001b[39m\u001b[38;5;28mself\u001b[39m\u001b[38;5;241m.\u001b[39mkwargs)\n\u001b[0;32m   1082\u001b[0m         \u001b[38;5;28;01mif\u001b[39;00m \u001b[38;5;28misinstance\u001b[39m(results[i], ABCSeries):\n\u001b[0;32m   1083\u001b[0m             \u001b[38;5;66;03m# If we have a view on v, we need to make a copy because\u001b[39;00m\n\u001b[0;32m   1084\u001b[0m             \u001b[38;5;66;03m#  series_generator will swap out the underlying data\u001b[39;00m\n\u001b[0;32m   1085\u001b[0m             results[i] \u001b[38;5;241m=\u001b[39m results[i]\u001b[38;5;241m.\u001b[39mcopy(deep\u001b[38;5;241m=\u001b[39m\u001b[38;5;28;01mFalse\u001b[39;00m)\n",
      "\u001b[1;31mTypeError\u001b[0m: sequence item 4: expected str instance, int found"
     ]
    }
   ],
   "source": [
    "import pandas as pd\n",
    "\n",
    "def run_tests_from_excel(file_path):\n",
    "    # Load the Excel file\n",
    "    df = pd.read_excel(file_path)\n",
    "    \n",
    "    # Normalize column names\n",
    "    df.columns = df.columns.str.strip().str.lower().str.replace(' ', '_')  # Standardize column names\n",
    "\n",
    "    # Check available columns\n",
    "    print(\"Available columns:\", df.columns)\n",
    "    \n",
    "    # Ensure required columns exist\n",
    "    required_columns = ['name', 'uid', 'house_flat_number', 'street_road_name', 'city', 'state', 'pincode']\n",
    "    for col in required_columns:\n",
    "        if col not in df.columns:\n",
    "            raise KeyError(f\"Missing required column: {col}\")\n",
    "    \n",
    "    # Create 'address' column if needed\n",
    "    df['address'] = df[['house_flat_number', 'street_road_name', 'city', 'state', 'pincode']].fillna('').agg(', '.join, axis=1)\n",
    "\n",
    "    # Iterate through each row of the DataFrame\n",
    "    for index, row in df.iterrows():\n",
    "        input_name = row['name']\n",
    "        extracted_name = row['name']  # Assuming same column for simplicity\n",
    "        input_address = row['address']\n",
    "        extracted_address = row['address']  # Assuming same column for simplicity\n",
    "        input_uid = row['uid']\n",
    "        extracted_uid = row['uid']  # Assuming same column for simplicity\n",
    "        \n",
    "        # Run your test functions (replace with actual function definitions)\n",
    "        print(f\"Testing: {input_name} vs {extracted_name}, {input_address} vs {extracted_address}, {input_uid} vs {extracted_uid}\")\n",
    "        print(f\"Name Match Score: {name_match(input_name, extracted_name)}\")\n",
    "        print(f\"Address Match Score: {address_match(input_address, extracted_address)}\")\n",
    "        print(f\"UID Match Score: {uid_match(input_uid, extracted_uid)}\")\n",
    "\n",
    "# Example usage\n",
    "file_path = \"/Users/admin/Documents/My_projects/adar/dataset/input file.xlsx\"\n",
    "run_tests_from_excel(file_path)\n"
   ]
  },
  {
   "cell_type": "code",
   "execution_count": 55,
   "id": "01394f14-4bd0-42c6-8925-9c7113cebe63",
   "metadata": {},
   "outputs": [
    {
     "ename": "KeyError",
     "evalue": "\"None of [Index(['house_flat_number', 'street_road_name', 'city', 'state', 'pincode'], dtype='object')] are in the [columns]\"",
     "output_type": "error",
     "traceback": [
      "\u001b[1;31m---------------------------------------------------------------------------\u001b[0m",
      "\u001b[1;31mKeyError\u001b[0m                                  Traceback (most recent call last)",
      "Cell \u001b[1;32mIn[55], line 1\u001b[0m\n\u001b[1;32m----> 1\u001b[0m df[[\u001b[38;5;124m'\u001b[39m\u001b[38;5;124mhouse_flat_number\u001b[39m\u001b[38;5;124m'\u001b[39m, \u001b[38;5;124m'\u001b[39m\u001b[38;5;124mstreet_road_name\u001b[39m\u001b[38;5;124m'\u001b[39m, \u001b[38;5;124m'\u001b[39m\u001b[38;5;124mcity\u001b[39m\u001b[38;5;124m'\u001b[39m, \u001b[38;5;124m'\u001b[39m\u001b[38;5;124mstate\u001b[39m\u001b[38;5;124m'\u001b[39m, \u001b[38;5;124m'\u001b[39m\u001b[38;5;124mpincode\u001b[39m\u001b[38;5;124m'\u001b[39m]]\u001b[38;5;241m.\u001b[39mastype(\u001b[38;5;28mstr\u001b[39m)\n",
      "File \u001b[1;32m~\\anaconda3\\envs\\yolo11\\Lib\\site-packages\\pandas\\core\\frame.py:4108\u001b[0m, in \u001b[0;36mDataFrame.__getitem__\u001b[1;34m(self, key)\u001b[0m\n\u001b[0;32m   4106\u001b[0m     \u001b[38;5;28;01mif\u001b[39;00m is_iterator(key):\n\u001b[0;32m   4107\u001b[0m         key \u001b[38;5;241m=\u001b[39m \u001b[38;5;28mlist\u001b[39m(key)\n\u001b[1;32m-> 4108\u001b[0m     indexer \u001b[38;5;241m=\u001b[39m \u001b[38;5;28mself\u001b[39m\u001b[38;5;241m.\u001b[39mcolumns\u001b[38;5;241m.\u001b[39m_get_indexer_strict(key, \u001b[38;5;124m\"\u001b[39m\u001b[38;5;124mcolumns\u001b[39m\u001b[38;5;124m\"\u001b[39m)[\u001b[38;5;241m1\u001b[39m]\n\u001b[0;32m   4110\u001b[0m \u001b[38;5;66;03m# take() does not accept boolean indexers\u001b[39;00m\n\u001b[0;32m   4111\u001b[0m \u001b[38;5;28;01mif\u001b[39;00m \u001b[38;5;28mgetattr\u001b[39m(indexer, \u001b[38;5;124m\"\u001b[39m\u001b[38;5;124mdtype\u001b[39m\u001b[38;5;124m\"\u001b[39m, \u001b[38;5;28;01mNone\u001b[39;00m) \u001b[38;5;241m==\u001b[39m \u001b[38;5;28mbool\u001b[39m:\n",
      "File \u001b[1;32m~\\anaconda3\\envs\\yolo11\\Lib\\site-packages\\pandas\\core\\indexes\\base.py:6200\u001b[0m, in \u001b[0;36mIndex._get_indexer_strict\u001b[1;34m(self, key, axis_name)\u001b[0m\n\u001b[0;32m   6197\u001b[0m \u001b[38;5;28;01melse\u001b[39;00m:\n\u001b[0;32m   6198\u001b[0m     keyarr, indexer, new_indexer \u001b[38;5;241m=\u001b[39m \u001b[38;5;28mself\u001b[39m\u001b[38;5;241m.\u001b[39m_reindex_non_unique(keyarr)\n\u001b[1;32m-> 6200\u001b[0m \u001b[38;5;28mself\u001b[39m\u001b[38;5;241m.\u001b[39m_raise_if_missing(keyarr, indexer, axis_name)\n\u001b[0;32m   6202\u001b[0m keyarr \u001b[38;5;241m=\u001b[39m \u001b[38;5;28mself\u001b[39m\u001b[38;5;241m.\u001b[39mtake(indexer)\n\u001b[0;32m   6203\u001b[0m \u001b[38;5;28;01mif\u001b[39;00m \u001b[38;5;28misinstance\u001b[39m(key, Index):\n\u001b[0;32m   6204\u001b[0m     \u001b[38;5;66;03m# GH 42790 - Preserve name from an Index\u001b[39;00m\n",
      "File \u001b[1;32m~\\anaconda3\\envs\\yolo11\\Lib\\site-packages\\pandas\\core\\indexes\\base.py:6249\u001b[0m, in \u001b[0;36mIndex._raise_if_missing\u001b[1;34m(self, key, indexer, axis_name)\u001b[0m\n\u001b[0;32m   6247\u001b[0m \u001b[38;5;28;01mif\u001b[39;00m nmissing:\n\u001b[0;32m   6248\u001b[0m     \u001b[38;5;28;01mif\u001b[39;00m nmissing \u001b[38;5;241m==\u001b[39m \u001b[38;5;28mlen\u001b[39m(indexer):\n\u001b[1;32m-> 6249\u001b[0m         \u001b[38;5;28;01mraise\u001b[39;00m \u001b[38;5;167;01mKeyError\u001b[39;00m(\u001b[38;5;124mf\u001b[39m\u001b[38;5;124m\"\u001b[39m\u001b[38;5;124mNone of [\u001b[39m\u001b[38;5;132;01m{\u001b[39;00mkey\u001b[38;5;132;01m}\u001b[39;00m\u001b[38;5;124m] are in the [\u001b[39m\u001b[38;5;132;01m{\u001b[39;00maxis_name\u001b[38;5;132;01m}\u001b[39;00m\u001b[38;5;124m]\u001b[39m\u001b[38;5;124m\"\u001b[39m)\n\u001b[0;32m   6251\u001b[0m     not_found \u001b[38;5;241m=\u001b[39m \u001b[38;5;28mlist\u001b[39m(ensure_index(key)[missing_mask\u001b[38;5;241m.\u001b[39mnonzero()[\u001b[38;5;241m0\u001b[39m]]\u001b[38;5;241m.\u001b[39munique())\n\u001b[0;32m   6252\u001b[0m     \u001b[38;5;28;01mraise\u001b[39;00m \u001b[38;5;167;01mKeyError\u001b[39;00m(\u001b[38;5;124mf\u001b[39m\u001b[38;5;124m\"\u001b[39m\u001b[38;5;132;01m{\u001b[39;00mnot_found\u001b[38;5;132;01m}\u001b[39;00m\u001b[38;5;124m not in index\u001b[39m\u001b[38;5;124m\"\u001b[39m)\n",
      "\u001b[1;31mKeyError\u001b[0m: \"None of [Index(['house_flat_number', 'street_road_name', 'city', 'state', 'pincode'], dtype='object')] are in the [columns]\""
     ]
    }
   ],
   "source": [
    "df[['house_flat_number', 'street_road_name', 'city', 'state', 'pincode']].astype(str)\n"
   ]
  },
  {
   "cell_type": "code",
   "execution_count": 56,
   "id": "202c1e1f-8714-4963-bfb2-a996adede59f",
   "metadata": {},
   "outputs": [
    {
     "name": "stdout",
     "output_type": "stream",
     "text": [
      "Available columns: Index(['srno', 'house_flat_number', 'house_flat_number_match_score', 'town',\n",
      "       'street_road_name', 'street_road_name_match_score',\n",
      "       'street_road_name_match_score.1', 'city', 'city_match_score',\n",
      "       'floor_number', 'floor_number_match_score', 'country', 'pincode',\n",
      "       'pincode_match_score', 'premise_building_name',\n",
      "       'premise_building_name_match_score', 'landmark', 'landmark_match_score',\n",
      "       'state', 'state_match_score', 'name', 'name_extracted_from_ovd',\n",
      "       'name_match_percentage', 'name_match_score', 'uid',\n",
      "       'uid_extracted_from_ovd', 'uid_match_score',\n",
      "       'address_extracted_from_ovd', 'final_address_match',\n",
      "       'final_address_match_score', 'overall_match', 'final_remarks',\n",
      "       'document_type'],\n",
      "      dtype='object')\n",
      "Testing: Nitish Kumar Sharma vs Nitish Kumar Sharma, Flat 404, Buddha Nagar, Noida, Uttarpradesh, 201301 vs Flat 404, Buddha Nagar, Noida, Uttarpradesh, 201301, 424831815689 vs 424831815689\n",
      "Name Match Score: 60\n",
      "Address Match Score: 9000.0\n",
      "UID Match Score: 100\n",
      "Testing: Pooja Shah vs Pooja Shah, E-707, Saswad Road, Pune, Maharashtra, 411060 vs E-707, Saswad Road, Pune, Maharashtra, 411060, 856364454912 vs 856364454912\n",
      "Name Match Score: 100\n",
      "Address Match Score: 9000.0\n",
      "UID Match Score: 100\n",
      "Testing: Mahesh Dattu Hire vs Mahesh Dattu Hire, C-403, Hanuman Nagar, Pune, Maharashtra, 411036 vs C-403, Hanuman Nagar, Pune, Maharashtra, 411036, 673496894312 vs 673496894312\n",
      "Name Match Score: 60\n",
      "Address Match Score: 9000.0\n",
      "UID Match Score: 100\n",
      "Testing: Prasanna Kumar vs Prasanna Kumar, Flat 404, Buddha Nagar, Noida, Uttarpradesh, 201301 vs Flat 404, Buddha Nagar, Noida, Uttarpradesh, 201301, 673496894312 vs 673496894312\n",
      "Name Match Score: 100\n",
      "Address Match Score: 9000.0\n",
      "UID Match Score: 100\n"
     ]
    }
   ],
   "source": [
    "import pandas as pd\n",
    "\n",
    "def run_tests_from_excel(file_path):\n",
    "    # Load the Excel file\n",
    "    df = pd.read_excel(file_path)\n",
    "    \n",
    "    # Normalize column names\n",
    "    df.columns = df.columns.str.strip().str.lower().str.replace(' ', '_')  # Standardize column names\n",
    "\n",
    "    # Check available columns\n",
    "    print(\"Available columns:\", df.columns)\n",
    "    \n",
    "    # Ensure required columns exist\n",
    "    required_columns = ['name', 'uid', 'house_flat_number', 'street_road_name', 'city', 'state', 'pincode']\n",
    "    for col in required_columns:\n",
    "        if col not in df.columns:\n",
    "            raise KeyError(f\"Missing required column: {col}\")\n",
    "    \n",
    "    # Create 'address' column by converting all elements to strings\n",
    "    df['address'] = df[['house_flat_number', 'street_road_name', 'city', 'state', 'pincode']].fillna('').astype(str).agg(', '.join, axis=1)\n",
    "\n",
    "    # Iterate through each row of the DataFrame\n",
    "    for index, row in df.iterrows():\n",
    "        input_name = row['name']\n",
    "        extracted_name = row['name']  # Assuming same column for simplicity\n",
    "        input_address = row['address']\n",
    "        extracted_address = row['address']  # Assuming same column for simplicity\n",
    "        input_uid = row['uid']\n",
    "        extracted_uid = row['uid']  # Assuming same column for simplicity\n",
    "        \n",
    "        # Run your test functions (replace with actual function definitions)\n",
    "        print(f\"Testing: {input_name} vs {extracted_name}, {input_address} vs {extracted_address}, {input_uid} vs {extracted_uid}\")\n",
    "        print(f\"Name Match Score: {name_match(input_name, extracted_name)}\")\n",
    "        print(f\"Address Match Score: {address_match(input_address, extracted_address)}\")\n",
    "        print(f\"UID Match Score: {uid_match(input_uid, extracted_uid)}\")\n",
    "\n",
    "# Example usage\n",
    "file_path = \"/Users/admin/Documents/My_projects/adar/dataset/input file.xlsx\"\n",
    "run_tests_from_excel(file_path)\n"
   ]
  },
  {
   "cell_type": "code",
   "execution_count": null,
   "id": "9a1964c5-5db0-423d-96e4-5c22ada1adb5",
   "metadata": {},
   "outputs": [],
   "source": []
  }
 ],
 "metadata": {
  "kernelspec": {
   "display_name": "Python 3 (ipykernel)",
   "language": "python",
   "name": "python3"
  },
  "language_info": {
   "codemirror_mode": {
    "name": "ipython",
    "version": 3
   },
   "file_extension": ".py",
   "mimetype": "text/x-python",
   "name": "python",
   "nbconvert_exporter": "python",
   "pygments_lexer": "ipython3",
   "version": "3.12.7"
  }
 },
 "nbformat": 4,
 "nbformat_minor": 5
}
